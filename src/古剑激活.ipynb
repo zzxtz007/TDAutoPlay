{
 "cells": [
  {
   "cell_type": "code",
   "execution_count": 1,
   "metadata": {},
   "outputs": [],
   "source": [
    "url = 'http://gjol.wangyuan.com/zt/2020/ptr/index.html'"
   ]
  },
  {
   "cell_type": "code",
   "execution_count": 2,
   "metadata": {},
   "outputs": [],
   "source": [
    "import os\n",
    "\n",
    "import requests\n",
    "import json\n",
    "\n",
    "from selenium import webdriver\n",
    "from selenium.webdriver.support.ui import WebDriverWait\n",
    "from selenium.webdriver.support import expected_conditions as EC\n",
    "from time import sleep\n",
    "from selenium.webdriver.common.by import By\n",
    "from decimal import *\n",
    "from selenium.webdriver.common.action_chains import ActionChains\n",
    "from selenium.webdriver.support.ui import Select"
   ]
  },
  {
   "cell_type": "code",
   "execution_count": 3,
   "metadata": {},
   "outputs": [],
   "source": [
    "\n",
    "chrome_options = webdriver.ChromeOptions()\n",
    "# chrome_options.add_argument('--headless')\n",
    "# chrome_options.add_argument('--disable-gpu')\n",
    "driver = webdriver.Chrome(options=chrome_options)"
   ]
  },
  {
   "cell_type": "code",
   "execution_count": 4,
   "metadata": {},
   "outputs": [],
   "source": [
    "driver.get(url)\n"
   ]
  },
  {
   "cell_type": "code",
   "execution_count": 65,
   "metadata": {},
   "outputs": [
    {
     "name": "stdout",
     "output_type": "stream",
     "text": [
      "{'rtoken': '8ab40aecc8ddc68cc1c59ca89bc1ea03', '__wyRToken': '8ab40aecc8ddc68cc1c59ca89bc1ea03', '__wyToken': 'ee0d221715ddc7819b0c6b7b728a6532', 'uid': '11742178', 'Hm_lpvt_d0bcf8d830a54e4c2056ce840b9ddf4d': '1593400064', '__wyUid': '11742178', 'uname': '13998441126', '__wyUsername': '13998441126', 'token': 'ee0d221715ddc7819b0c6b7b728a6532', 'MKEN': 'UbarSivnBFtf6XTAhLc2YzE0xdlWN4jIR70wHgok2', 'Hm_lvt_d0bcf8d830a54e4c2056ce840b9ddf4d': '1593400064'}\n"
     ]
    }
   ],
   "source": [
    "#登录好 获取cookies\n",
    "\n",
    "c = driver.get_cookies()\n",
    "cookies = {}\n",
    "for cookie in c:\n",
    "    cookies[cookie['name']] = cookie['value']\n",
    "print(cookies)\n",
    "with open('cookies2.json', 'w') as f:\n",
    "        f.write(json.dumps(cookies))\n"
   ]
  },
  {
   "cell_type": "code",
   "execution_count": 49,
   "metadata": {},
   "outputs": [
    {
     "name": "stdout",
     "output_type": "stream",
     "text": [
      "{'rtoken': '02adf294b839994cd714c3a604510d6e', '__wyRToken': '02adf294b839994cd714c3a604510d6e', '__wyToken': 'd8e0adb9a27ec0dec533a9ae25d34dfe', 'uid': '30021987', 'Hm_lpvt_d0bcf8d830a54e4c2056ce840b9ddf4d': '1593400064', '__wyUid': '30021987', 'uname': '18602196050', '__wyUsername': '18602196050', 'token': 'd8e0adb9a27ec0dec533a9ae25d34dfe', 'MKEN': 'UbarSivnBFtf6XTAhLc2YzE0xdlWN4jIR70wHgok2', 'Hm_lvt_d0bcf8d830a54e4c2056ce840b9ddf4d': '1593400064'}\n",
      "{'rtoken': 'eeb59885f92fe7bad8b4dd0ba78c0b96', '__wyRToken': 'eeb59885f92fe7bad8b4dd0ba78c0b96', '__wyToken': '2ff6e21d22036b7ec9c0e04681b6d43f', 'uid': '11742178', 'Hm_lpvt_d0bcf8d830a54e4c2056ce840b9ddf4d': '1593400064', '__wyUid': '11742178', 'uname': '13998441126', '__wyUsername': '13998441126', 'token': '2ff6e21d22036b7ec9c0e04681b6d43f', 'MKEN': 'UbarSivnBFtf6XTAhLc2YzE0xdlWN4jIR70wHgok2', 'Hm_lvt_d0bcf8d830a54e4c2056ce840b9ddf4d': '1593400064'}\n",
      "{'rtoken': '82609625d26130ce699a246405d09e10', '__wyRToken': '82609625d26130ce699a246405d09e10', '__wyToken': '626b8a666b37a1dace03a74beab28563', 'uid': '10746098', 'Hm_lpvt_d0bcf8d830a54e4c2056ce840b9ddf4d': '1593400064', '__wyUid': '10746098', 'uname': '17621813139', '__wyUsername': '17621813139', 'token': '626b8a666b37a1dace03a74beab28563', 'MKEN': 'UbarSivnBFtf6XTAhLc2YzE0xdlWN4jIR70wHgok2', 'Hm_lvt_d0bcf8d830a54e4c2056ce840b9ddf4d': '1593400064'}\n",
      "{'rtoken': '4ff08cacb0a0145050d03bdb5f703c90', '__wyRToken': '4ff08cacb0a0145050d03bdb5f703c90', '__wyToken': '2675d90eed36a5b2612de74a9d5c06cc', 'uid': '11519884', 'Hm_lpvt_d0bcf8d830a54e4c2056ce840b9ddf4d': '1593400064', '__wyUid': '11519884', 'uname': 'warknight240', '__wyUsername': 'warknight240', 'token': '2675d90eed36a5b2612de74a9d5c06cc', 'MKEN': 'UbarSivnBFtf6XTAhLc2YzE0xdlWN4jIR70wHgok2', 'Hm_lvt_d0bcf8d830a54e4c2056ce840b9ddf4d': '1593400064'}\n"
     ]
    }
   ],
   "source": [
    "cookie_list= []\n",
    "with open('cookies1.json', 'r') as f:\n",
    "    cc = json.loads(f.read())\n",
    "#     print(cc)\n",
    "    cookie_list.append(cc)\n",
    "    \n",
    "with open('cookies2.json', 'r') as f:\n",
    "    cc = json.loads(f.read())\n",
    "#     print(cc)\n",
    "    cookie_list.append(cc)\n",
    "    \n",
    "with open('cookies3.json', 'r') as f:\n",
    "    cc = json.loads(f.read())\n",
    "    cookie_list.append(cc)\n",
    "    \n",
    "with open('cookies4.json', 'r') as f:\n",
    "    cc = json.loads(f.read())\n",
    "#     print(cc)\n",
    "    cookie_list.append(cc)\n",
    "for i in cookie_list:\n",
    "    print(i) "
   ]
  },
  {
   "cell_type": "code",
   "execution_count": 26,
   "metadata": {},
   "outputs": [],
   "source": [
    "headers = {\n",
    "    'Accept':'application/json, text/javascript, */*; q=0.01',\n",
    "    'Accept-Encoding':'gzip, deflate',\n",
    "    'Accept-Language': 'zh-CN,zh;q=0.9',\n",
    "    'Connection': 'keep-alive',\n",
    "    'Content-Length': '65',\n",
    "    'Content-Type': 'application/x-www-form-urlencoded; charset=UTF-8',\n",
    "    'Host': 'extapi.hd.wangyuan.com',\n",
    "    'Origin': 'http://gjol.wangyuan.com',\n",
    "    'Referer': 'http://gjol.wangyuan.com/zt/2020/ptr/index.html',\n",
    "    'User-Agent': 'Mozilla/5.0 (Windows NT 10.0; Win64; x64) AppleWebKit/537.36 (KHTML, like Gecko) Chrome/83.0.4103.116 Safari/537.36',\n",
    "}"
   ]
  },
  {
   "cell_type": "code",
   "execution_count": 84,
   "metadata": {},
   "outputs": [],
   "source": [
    "form_data = {\n",
    "    'uid':cookies['uid'],\n",
    "    'token':cookies['token'],\n",
    "    'code':'MQM1L4S9',\n",
    "}"
   ]
  },
  {
   "cell_type": "code",
   "execution_count": 27,
   "metadata": {},
   "outputs": [],
   "source": [
    "# print(form_data)\n",
    "post_url = 'http://extapi.hd.wangyuan.com/ptr-enroll/active'"
   ]
  },
  {
   "cell_type": "code",
   "execution_count": 24,
   "metadata": {},
   "outputs": [],
   "source": [
    "# save = requests.post(post_url, data=form_data, headers=headers, timeout=10)"
   ]
  },
  {
   "cell_type": "code",
   "execution_count": 47,
   "metadata": {},
   "outputs": [
    {
     "name": "stdout",
     "output_type": "stream",
     "text": [
      "{\"status\":503,\"message\":\"请确定您的激活码正确，或没有被人使用过。\",\"data\":\"\"}\n"
     ]
    }
   ],
   "source": [
    "print(save.text)"
   ]
  },
  {
   "cell_type": "code",
   "execution_count": 51,
   "metadata": {},
   "outputs": [],
   "source": [
    "json_loads = json.loads(save.text)"
   ]
  },
  {
   "cell_type": "code",
   "execution_count": 55,
   "metadata": {},
   "outputs": [
    {
     "data": {
      "text/plain": [
       "True"
      ]
     },
     "execution_count": 55,
     "metadata": {},
     "output_type": "execute_result"
    }
   ],
   "source": [
    "json_loads['status']==503"
   ]
  },
  {
   "cell_type": "code",
   "execution_count": 67,
   "metadata": {},
   "outputs": [
    {
     "name": "stdout",
     "output_type": "stream",
     "text": [
      "P8K4WPEB\n",
      "{'uid': '11742178', 'token': 'ee0d221715ddc7819b0c6b7b728a6532', 'code': 'P8K4WPEB'}\n",
      "{\"status\":503,\"message\":\"请确定您的激活码正确，或没有被人使用过。\",\"data\":\"\"}\n",
      "EAQCZ2CG\n",
      "{'uid': '11742178', 'token': 'ee0d221715ddc7819b0c6b7b728a6532', 'code': 'EAQCZ2CG'}\n",
      "{\"status\":503,\"message\":\"请确定您的激活码正确，或没有被人使用过。\",\"data\":\"\"}\n",
      "XQII529G\n",
      "{'uid': '11742178', 'token': 'ee0d221715ddc7819b0c6b7b728a6532', 'code': 'XQII529G'}\n",
      "{\"status\":503,\"message\":\"请确定您的激活码正确，或没有被人使用过。\",\"data\":\"\"}\n",
      "OY86NUQA\n",
      "{'uid': '11742178', 'token': 'ee0d221715ddc7819b0c6b7b728a6532', 'code': 'OY86NUQA'}\n",
      "{\"status\":503,\"message\":\"请确定您的激活码正确，或没有被人使用过。\",\"data\":\"\"}\n",
      "XTTSK1NZ\n",
      "{'uid': '11742178', 'token': 'ee0d221715ddc7819b0c6b7b728a6532', 'code': 'XTTSK1NZ'}\n",
      "{\"status\":503,\"message\":\"请确定您的激活码正确，或没有被人使用过。\",\"data\":\"\"}\n",
      "PM63Y58U\n",
      "{'uid': '11742178', 'token': 'ee0d221715ddc7819b0c6b7b728a6532', 'code': 'PM63Y58U'}\n",
      "{\"status\":503,\"message\":\"请确定您的激活码正确，或没有被人使用过。\",\"data\":\"\"}\n",
      "TUI78YG3\n",
      "{'uid': '11742178', 'token': 'ee0d221715ddc7819b0c6b7b728a6532', 'code': 'TUI78YG3'}\n",
      "{\"status\":503,\"message\":\"请确定您的激活码正确，或没有被人使用过。\",\"data\":\"\"}\n",
      "7JNOZTH3\n",
      "{'uid': '11742178', 'token': 'ee0d221715ddc7819b0c6b7b728a6532', 'code': '7JNOZTH3'}\n",
      "{\"status\":503,\"message\":\"请确定您的激活码正确，或没有被人使用过。\",\"data\":\"\"}\n",
      "QW75H1DV\n",
      "{'uid': '11742178', 'token': 'ee0d221715ddc7819b0c6b7b728a6532', 'code': 'QW75H1DV'}\n",
      "{\"status\":503,\"message\":\"请确定您的激活码正确，或没有被人使用过。\",\"data\":\"\"}\n",
      "VF5OIU1U\n",
      "{'uid': '11742178', 'token': 'ee0d221715ddc7819b0c6b7b728a6532', 'code': 'VF5OIU1U'}\n",
      "{\"status\":503,\"message\":\"请确定您的激活码正确，或没有被人使用过。\",\"data\":\"\"}\n",
      "GJDWPATP\n",
      "{'uid': '11742178', 'token': 'ee0d221715ddc7819b0c6b7b728a6532', 'code': 'GJDWPATP'}\n",
      "{\"status\":503,\"message\":\"请确定您的激活码正确，或没有被人使用过。\",\"data\":\"\"}\n",
      "WPZZAXOU\n",
      "{'uid': '11742178', 'token': 'ee0d221715ddc7819b0c6b7b728a6532', 'code': 'WPZZAXOU'}\n",
      "{\"status\":503,\"message\":\"请确定您的激活码正确，或没有被人使用过。\",\"data\":\"\"}\n",
      "NAQS1Y9W\n",
      "{'uid': '11742178', 'token': 'ee0d221715ddc7819b0c6b7b728a6532', 'code': 'NAQS1Y9W'}\n",
      "{\"status\":503,\"message\":\"请确定您的激活码正确，或没有被人使用过。\",\"data\":\"\"}\n",
      "DSUH4TKN\n",
      "{'uid': '11742178', 'token': 'ee0d221715ddc7819b0c6b7b728a6532', 'code': 'DSUH4TKN'}\n",
      "{\"status\":503,\"message\":\"请确定您的激活码正确，或没有被人使用过。\",\"data\":\"\"}\n",
      "U84RH5Q2\n",
      "{'uid': '11742178', 'token': 'ee0d221715ddc7819b0c6b7b728a6532', 'code': 'U84RH5Q2'}\n",
      "{\"status\":503,\"message\":\"请确定您的激活码正确，或没有被人使用过。\",\"data\":\"\"}\n",
      "56EM8KL6\n",
      "{'uid': '11742178', 'token': 'ee0d221715ddc7819b0c6b7b728a6532', 'code': '56EM8KL6'}\n",
      "{\"status\":503,\"message\":\"请确定您的激活码正确，或没有被人使用过。\",\"data\":\"\"}\n",
      "444CCYXM\n",
      "{'uid': '11742178', 'token': 'ee0d221715ddc7819b0c6b7b728a6532', 'code': '444CCYXM'}\n",
      "{\"status\":503,\"message\":\"请确定您的激活码正确，或没有被人使用过。\",\"data\":\"\"}\n",
      "K9E3AIR0\n",
      "{'uid': '11742178', 'token': 'ee0d221715ddc7819b0c6b7b728a6532', 'code': 'K9E3AIR0'}\n",
      "{\"status\":503,\"message\":\"请确定您的激活码正确，或没有被人使用过。\",\"data\":\"\"}\n",
      "ERJM3DWG\n",
      "{'uid': '11742178', 'token': 'ee0d221715ddc7819b0c6b7b728a6532', 'code': 'ERJM3DWG'}\n",
      "{\"status\":503,\"message\":\"请确定您的激活码正确，或没有被人使用过。\",\"data\":\"\"}\n",
      "DQA3XVYW\n",
      "{'uid': '11742178', 'token': 'ee0d221715ddc7819b0c6b7b728a6532', 'code': 'DQA3XVYW'}\n",
      "{\"status\":503,\"message\":\"请确定您的激活码正确，或没有被人使用过。\",\"data\":\"\"}\n",
      "QNE01R1M\n",
      "{'uid': '11742178', 'token': 'ee0d221715ddc7819b0c6b7b728a6532', 'code': 'QNE01R1M'}\n",
      "{\"status\":503,\"message\":\"请确定您的激活码正确，或没有被人使用过。\",\"data\":\"\"}\n",
      "8S9EHFBP\n",
      "{'uid': '11742178', 'token': 'ee0d221715ddc7819b0c6b7b728a6532', 'code': '8S9EHFBP'}\n",
      "{\"status\":503,\"message\":\"请确定您的激活码正确，或没有被人使用过。\",\"data\":\"\"}\n",
      "G8S2CMRO\n",
      "{'uid': '11742178', 'token': 'ee0d221715ddc7819b0c6b7b728a6532', 'code': 'G8S2CMRO'}\n",
      "{\"status\":503,\"message\":\"请确定您的激活码正确，或没有被人使用过。\",\"data\":\"\"}\n",
      "PRZKSGF3\n",
      "{'uid': '11742178', 'token': 'ee0d221715ddc7819b0c6b7b728a6532', 'code': 'PRZKSGF3'}\n",
      "{\"status\":503,\"message\":\"请确定您的激活码正确，或没有被人使用过。\",\"data\":\"\"}\n",
      "2GY7ITO8\n",
      "{'uid': '11742178', 'token': 'ee0d221715ddc7819b0c6b7b728a6532', 'code': '2GY7ITO8'}\n",
      "{\"status\":503,\"message\":\"请确定您的激活码正确，或没有被人使用过。\",\"data\":\"\"}\n",
      "8L7UHETV\n",
      "{'uid': '11742178', 'token': 'ee0d221715ddc7819b0c6b7b728a6532', 'code': '8L7UHETV'}\n",
      "{\"status\":503,\"message\":\"请确定您的激活码正确，或没有被人使用过。\",\"data\":\"\"}\n",
      "E3I136SE\n",
      "{'uid': '11742178', 'token': 'ee0d221715ddc7819b0c6b7b728a6532', 'code': 'E3I136SE'}\n",
      "{\"status\":503,\"message\":\"请确定您的激活码正确，或没有被人使用过。\",\"data\":\"\"}\n",
      "R5RA5SXR\n",
      "{'uid': '11742178', 'token': 'ee0d221715ddc7819b0c6b7b728a6532', 'code': 'R5RA5SXR'}\n",
      "{\"status\":503,\"message\":\"请确定您的激活码正确，或没有被人使用过。\",\"data\":\"\"}\n",
      "TY81UVU0\n",
      "{'uid': '11742178', 'token': 'ee0d221715ddc7819b0c6b7b728a6532', 'code': 'TY81UVU0'}\n",
      "{\"status\":503,\"message\":\"请确定您的激活码正确，或没有被人使用过。\",\"data\":\"\"}\n",
      "XIDANQY2\n",
      "{'uid': '11742178', 'token': 'ee0d221715ddc7819b0c6b7b728a6532', 'code': 'XIDANQY2'}\n",
      "{\"status\":501,\"message\":\"尝试次数过多，请稍后再试\",\"data\":\"\"}\n"
     ]
    }
   ],
   "source": [
    "# ori_key_code = '''JE9407N4\n",
    "\n",
    "# ISTADRU9\n",
    "\n",
    "# SNS9KB9C\n",
    "\n",
    "# O1BP62C6\n",
    "\n",
    "# QANIHHEM\n",
    "\n",
    "# 489313UF\n",
    "\n",
    "# R0HIELCS\n",
    "\n",
    "# TO5K3KFR\n",
    "\n",
    "# GN9J7CLC\n",
    "\n",
    "# 98VRCHES\n",
    "\n",
    "# 0GBSP67U\n",
    "\n",
    "# 2A2MOU2M\n",
    "\n",
    "# NBTRT9SI\n",
    "\n",
    "# 2K8I01J0\n",
    "\n",
    "# KPNAHOLN\n",
    "\n",
    "# E5QFGHDI\n",
    "\n",
    "# IL5942VI\n",
    "\n",
    "# 9BKOK406\n",
    "\n",
    "# DO5IMROL\n",
    "\n",
    "# FVQFJ6B1'''\n",
    "# key_code_=[]\n",
    "# for i in ori_key_code.split('\\n'):\n",
    "#     if len(i)==8:\n",
    "#         key_code_.append(i)\n",
    "# key_code_ = key_code_[::-1]\n",
    "key_code_ = get_random_key(100)\n",
    "new_key_code = key_code_[::]\n",
    "# print(key_code_)\n",
    "\n",
    "# print(key_code_)\n",
    "cookies = get_coo('cookies2.json')\n",
    "register_key(key_code_,cookies)\n"
   ]
  },
  {
   "cell_type": "code",
   "execution_count": 41,
   "metadata": {},
   "outputs": [
    {
     "name": "stdout",
     "output_type": "stream",
     "text": [
      "OA0PMIHN\n",
      "{'uid': '30021987', 'token': '1af315477e4a9c46c6819c5a55a243c5', 'code': 'OA0PMIHN'}\n",
      "{\"status\":503,\"message\":\"请确定您的激活码正确，或没有被人使用过。\",\"data\":\"\"}\n",
      "7BO20S9O\n",
      "{'uid': '11742178', 'token': '309efee6a5afd09122dde5e3fb3454ce', 'code': '7BO20S9O'}\n",
      "{\"status\":503,\"message\":\"请确定您的激活码正确，或没有被人使用过。\",\"data\":\"\"}\n",
      "RKJ16JSC\n",
      "{'uid': '11519884', 'token': '46400f3d3c32e7a736eb3d65ae450b76', 'code': 'RKJ16JSC'}\n",
      "{\"status\":503,\"message\":\"请确定您的激活码正确，或没有被人使用过。\",\"data\":\"\"}\n"
     ]
    }
   ],
   "source": [
    "key_code_=new_key_code[::]\n",
    "cookies = get_coo('cookies2.json')\n",
    "register_key(key_code_,cookies)\n",
    "key_code_=new_key_code[::]\n",
    "cookies = get_coo('cookies3.json')\n",
    "register_key(key_code_,cookies)\n",
    "key_code_=new_key_code[::]\n",
    "cookies = get_coo('cookies4.json')\n",
    "register_key(key_code_,cookies)\n"
   ]
  },
  {
   "cell_type": "code",
   "execution_count": 14,
   "metadata": {},
   "outputs": [],
   "source": [
    "def change_form_data(coo,key):   \n",
    "    return {\n",
    "    'uid':coo['uid'],\n",
    "    'token':coo['token'],\n",
    "    'code':key,\n",
    "    }\n",
    "#     print(form_data)"
   ]
  },
  {
   "cell_type": "code",
   "execution_count": 15,
   "metadata": {},
   "outputs": [],
   "source": [
    "def get_coo(file):\n",
    "    with open(file, 'r') as f:\n",
    "        cc = json.loads(f.read())\n",
    "    #     print(cc)\n",
    "        return cc"
   ]
  },
  {
   "cell_type": "code",
   "execution_count": 52,
   "metadata": {},
   "outputs": [],
   "source": [
    "def register_key(key_code,coo):   \n",
    "    for i in key_code:\n",
    "        print(i)\n",
    "#         new_key_code.remove(i)\n",
    "#         if i == 'RKJ16JSC':\n",
    "#             return\n",
    "        data = change_form_data(coo,i)\n",
    "        print(data)\n",
    "        save = requests.post(post_url, data=data, headers=headers, timeout=10)\n",
    "        if save.status_code==200:\n",
    "            json_loads = json.loads(save.text)\n",
    "            print(save.text)\n",
    "            if json_loads['status']==503 :\n",
    "                new_key_code.remove(i)\n",
    "                continue\n",
    "            else:\n",
    "# #                 change_form_data()\n",
    "                return\n",
    "     "
   ]
  },
  {
   "cell_type": "code",
   "execution_count": 62,
   "metadata": {},
   "outputs": [],
   "source": [
    "import random\n",
    "import string\n",
    "\n",
    "seed = \"1234567890ABCDEFGHIJKLMNOPQRSTUVWXYZ\"\n",
    "\n",
    "\n",
    "def get_random_key(num):\n",
    "    keys = []\n",
    "    for n in range(num):\n",
    "        sa = []\n",
    "        for i in range(8):\n",
    "            sa.append(random.choice(seed))\n",
    "        salt = ''.join(sa)\n",
    "#         print(salt)\n",
    "        keys.append(salt)\n",
    "    return keys"
   ]
  },
  {
   "cell_type": "code",
   "execution_count": null,
   "metadata": {},
   "outputs": [],
   "source": []
  }
 ],
 "metadata": {
  "kernelspec": {
   "display_name": "Python 3",
   "language": "python",
   "name": "python3"
  },
  "language_info": {
   "codemirror_mode": {
    "name": "ipython",
    "version": 3
   },
   "file_extension": ".py",
   "mimetype": "text/x-python",
   "name": "python",
   "nbconvert_exporter": "python",
   "pygments_lexer": "ipython3",
   "version": "3.8.2"
  }
 },
 "nbformat": 4,
 "nbformat_minor": 4
}
